{
 "cells": [
  {
   "cell_type": "code",
   "execution_count": 1,
   "id": "abae3117-2045-45b6-ae11-045f88d6d9ff",
   "metadata": {},
   "outputs": [],
   "source": [
    "import numpy as np\n",
    "import pandas as pd\n",
    "import matplotlib.pyplot as plt"
   ]
  },
  {
   "cell_type": "code",
   "execution_count": 2,
   "id": "3ac75f05-fb8d-4bad-80bf-495e305002dd",
   "metadata": {},
   "outputs": [
    {
     "data": {
      "text/html": [
       "<div>\n",
       "<style scoped>\n",
       "    .dataframe tbody tr th:only-of-type {\n",
       "        vertical-align: middle;\n",
       "    }\n",
       "\n",
       "    .dataframe tbody tr th {\n",
       "        vertical-align: top;\n",
       "    }\n",
       "\n",
       "    .dataframe thead th {\n",
       "        text-align: right;\n",
       "    }\n",
       "</style>\n",
       "<table border=\"1\" class=\"dataframe\">\n",
       "  <thead>\n",
       "    <tr style=\"text-align: right;\">\n",
       "      <th></th>\n",
       "      <th>39</th>\n",
       "      <th>State-gov</th>\n",
       "      <th>77516</th>\n",
       "      <th>Bachelors</th>\n",
       "      <th>13</th>\n",
       "      <th>Never-married</th>\n",
       "      <th>Adm-clerical</th>\n",
       "      <th>Not-in-family</th>\n",
       "      <th>White</th>\n",
       "      <th>Male</th>\n",
       "      <th>2174</th>\n",
       "      <th>0</th>\n",
       "      <th>40</th>\n",
       "      <th>United-States</th>\n",
       "      <th>&lt;=50K</th>\n",
       "    </tr>\n",
       "  </thead>\n",
       "  <tbody>\n",
       "    <tr>\n",
       "      <th>0</th>\n",
       "      <td>50</td>\n",
       "      <td>Self-emp-not-inc</td>\n",
       "      <td>83311</td>\n",
       "      <td>Bachelors</td>\n",
       "      <td>13</td>\n",
       "      <td>Married-civ-spouse</td>\n",
       "      <td>Exec-managerial</td>\n",
       "      <td>Husband</td>\n",
       "      <td>White</td>\n",
       "      <td>Male</td>\n",
       "      <td>0</td>\n",
       "      <td>0</td>\n",
       "      <td>13</td>\n",
       "      <td>United-States</td>\n",
       "      <td>&lt;=50K</td>\n",
       "    </tr>\n",
       "    <tr>\n",
       "      <th>1</th>\n",
       "      <td>38</td>\n",
       "      <td>Private</td>\n",
       "      <td>215646</td>\n",
       "      <td>HS-grad</td>\n",
       "      <td>9</td>\n",
       "      <td>Divorced</td>\n",
       "      <td>Handlers-cleaners</td>\n",
       "      <td>Not-in-family</td>\n",
       "      <td>White</td>\n",
       "      <td>Male</td>\n",
       "      <td>0</td>\n",
       "      <td>0</td>\n",
       "      <td>40</td>\n",
       "      <td>United-States</td>\n",
       "      <td>&lt;=50K</td>\n",
       "    </tr>\n",
       "    <tr>\n",
       "      <th>2</th>\n",
       "      <td>53</td>\n",
       "      <td>Private</td>\n",
       "      <td>234721</td>\n",
       "      <td>11th</td>\n",
       "      <td>7</td>\n",
       "      <td>Married-civ-spouse</td>\n",
       "      <td>Handlers-cleaners</td>\n",
       "      <td>Husband</td>\n",
       "      <td>Black</td>\n",
       "      <td>Male</td>\n",
       "      <td>0</td>\n",
       "      <td>0</td>\n",
       "      <td>40</td>\n",
       "      <td>United-States</td>\n",
       "      <td>&lt;=50K</td>\n",
       "    </tr>\n",
       "    <tr>\n",
       "      <th>3</th>\n",
       "      <td>28</td>\n",
       "      <td>Private</td>\n",
       "      <td>338409</td>\n",
       "      <td>Bachelors</td>\n",
       "      <td>13</td>\n",
       "      <td>Married-civ-spouse</td>\n",
       "      <td>Prof-specialty</td>\n",
       "      <td>Wife</td>\n",
       "      <td>Black</td>\n",
       "      <td>Female</td>\n",
       "      <td>0</td>\n",
       "      <td>0</td>\n",
       "      <td>40</td>\n",
       "      <td>Cuba</td>\n",
       "      <td>&lt;=50K</td>\n",
       "    </tr>\n",
       "    <tr>\n",
       "      <th>4</th>\n",
       "      <td>37</td>\n",
       "      <td>Private</td>\n",
       "      <td>284582</td>\n",
       "      <td>Masters</td>\n",
       "      <td>14</td>\n",
       "      <td>Married-civ-spouse</td>\n",
       "      <td>Exec-managerial</td>\n",
       "      <td>Wife</td>\n",
       "      <td>White</td>\n",
       "      <td>Female</td>\n",
       "      <td>0</td>\n",
       "      <td>0</td>\n",
       "      <td>40</td>\n",
       "      <td>United-States</td>\n",
       "      <td>&lt;=50K</td>\n",
       "    </tr>\n",
       "  </tbody>\n",
       "</table>\n",
       "</div>"
      ],
      "text/plain": [
       "   39          State-gov   77516   Bachelors   13        Never-married  \\\n",
       "0  50   Self-emp-not-inc   83311   Bachelors   13   Married-civ-spouse   \n",
       "1  38            Private  215646     HS-grad    9             Divorced   \n",
       "2  53            Private  234721        11th    7   Married-civ-spouse   \n",
       "3  28            Private  338409   Bachelors   13   Married-civ-spouse   \n",
       "4  37            Private  284582     Masters   14   Married-civ-spouse   \n",
       "\n",
       "         Adm-clerical   Not-in-family   White     Male   2174   0   40  \\\n",
       "0     Exec-managerial         Husband   White     Male      0   0   13   \n",
       "1   Handlers-cleaners   Not-in-family   White     Male      0   0   40   \n",
       "2   Handlers-cleaners         Husband   Black     Male      0   0   40   \n",
       "3      Prof-specialty            Wife   Black   Female      0   0   40   \n",
       "4     Exec-managerial            Wife   White   Female      0   0   40   \n",
       "\n",
       "    United-States   <=50K  \n",
       "0   United-States   <=50K  \n",
       "1   United-States   <=50K  \n",
       "2   United-States   <=50K  \n",
       "3            Cuba   <=50K  \n",
       "4   United-States   <=50K  "
      ]
     },
     "execution_count": 2,
     "metadata": {},
     "output_type": "execute_result"
    }
   ],
   "source": [
    "df=pd.read_csv(\"adult.csv\")\n",
    "df.head()"
   ]
  },
  {
   "cell_type": "code",
   "execution_count": 3,
   "id": "d36f6470-33f6-4d1f-b26a-1219c3955438",
   "metadata": {},
   "outputs": [
    {
     "data": {
      "text/html": [
       "<div>\n",
       "<style scoped>\n",
       "    .dataframe tbody tr th:only-of-type {\n",
       "        vertical-align: middle;\n",
       "    }\n",
       "\n",
       "    .dataframe tbody tr th {\n",
       "        vertical-align: top;\n",
       "    }\n",
       "\n",
       "    .dataframe thead th {\n",
       "        text-align: right;\n",
       "    }\n",
       "</style>\n",
       "<table border=\"1\" class=\"dataframe\">\n",
       "  <thead>\n",
       "    <tr style=\"text-align: right;\">\n",
       "      <th></th>\n",
       "      <th>Age</th>\n",
       "      <th>Workclass</th>\n",
       "      <th>Fnlwgt</th>\n",
       "      <th>Education</th>\n",
       "      <th>education_num</th>\n",
       "      <th>marital_status</th>\n",
       "      <th>occupation</th>\n",
       "      <th>relationship</th>\n",
       "      <th>race</th>\n",
       "      <th>sex</th>\n",
       "      <th>capital_gain</th>\n",
       "      <th>capital_loss</th>\n",
       "      <th>hours_per_week</th>\n",
       "      <th>native_country</th>\n",
       "      <th>income</th>\n",
       "    </tr>\n",
       "  </thead>\n",
       "  <tbody>\n",
       "    <tr>\n",
       "      <th>0</th>\n",
       "      <td>50</td>\n",
       "      <td>Self-emp-not-inc</td>\n",
       "      <td>83311</td>\n",
       "      <td>Bachelors</td>\n",
       "      <td>13</td>\n",
       "      <td>Married-civ-spouse</td>\n",
       "      <td>Exec-managerial</td>\n",
       "      <td>Husband</td>\n",
       "      <td>White</td>\n",
       "      <td>Male</td>\n",
       "      <td>0</td>\n",
       "      <td>0</td>\n",
       "      <td>13</td>\n",
       "      <td>United-States</td>\n",
       "      <td>&lt;=50K</td>\n",
       "    </tr>\n",
       "    <tr>\n",
       "      <th>1</th>\n",
       "      <td>38</td>\n",
       "      <td>Private</td>\n",
       "      <td>215646</td>\n",
       "      <td>HS-grad</td>\n",
       "      <td>9</td>\n",
       "      <td>Divorced</td>\n",
       "      <td>Handlers-cleaners</td>\n",
       "      <td>Not-in-family</td>\n",
       "      <td>White</td>\n",
       "      <td>Male</td>\n",
       "      <td>0</td>\n",
       "      <td>0</td>\n",
       "      <td>40</td>\n",
       "      <td>United-States</td>\n",
       "      <td>&lt;=50K</td>\n",
       "    </tr>\n",
       "    <tr>\n",
       "      <th>2</th>\n",
       "      <td>53</td>\n",
       "      <td>Private</td>\n",
       "      <td>234721</td>\n",
       "      <td>11th</td>\n",
       "      <td>7</td>\n",
       "      <td>Married-civ-spouse</td>\n",
       "      <td>Handlers-cleaners</td>\n",
       "      <td>Husband</td>\n",
       "      <td>Black</td>\n",
       "      <td>Male</td>\n",
       "      <td>0</td>\n",
       "      <td>0</td>\n",
       "      <td>40</td>\n",
       "      <td>United-States</td>\n",
       "      <td>&lt;=50K</td>\n",
       "    </tr>\n",
       "    <tr>\n",
       "      <th>3</th>\n",
       "      <td>28</td>\n",
       "      <td>Private</td>\n",
       "      <td>338409</td>\n",
       "      <td>Bachelors</td>\n",
       "      <td>13</td>\n",
       "      <td>Married-civ-spouse</td>\n",
       "      <td>Prof-specialty</td>\n",
       "      <td>Wife</td>\n",
       "      <td>Black</td>\n",
       "      <td>Female</td>\n",
       "      <td>0</td>\n",
       "      <td>0</td>\n",
       "      <td>40</td>\n",
       "      <td>Cuba</td>\n",
       "      <td>&lt;=50K</td>\n",
       "    </tr>\n",
       "    <tr>\n",
       "      <th>4</th>\n",
       "      <td>37</td>\n",
       "      <td>Private</td>\n",
       "      <td>284582</td>\n",
       "      <td>Masters</td>\n",
       "      <td>14</td>\n",
       "      <td>Married-civ-spouse</td>\n",
       "      <td>Exec-managerial</td>\n",
       "      <td>Wife</td>\n",
       "      <td>White</td>\n",
       "      <td>Female</td>\n",
       "      <td>0</td>\n",
       "      <td>0</td>\n",
       "      <td>40</td>\n",
       "      <td>United-States</td>\n",
       "      <td>&lt;=50K</td>\n",
       "    </tr>\n",
       "  </tbody>\n",
       "</table>\n",
       "</div>"
      ],
      "text/plain": [
       "   Age          Workclass  Fnlwgt   Education  education_num  \\\n",
       "0   50   Self-emp-not-inc   83311   Bachelors             13   \n",
       "1   38            Private  215646     HS-grad              9   \n",
       "2   53            Private  234721        11th              7   \n",
       "3   28            Private  338409   Bachelors             13   \n",
       "4   37            Private  284582     Masters             14   \n",
       "\n",
       "        marital_status          occupation    relationship    race      sex  \\\n",
       "0   Married-civ-spouse     Exec-managerial         Husband   White     Male   \n",
       "1             Divorced   Handlers-cleaners   Not-in-family   White     Male   \n",
       "2   Married-civ-spouse   Handlers-cleaners         Husband   Black     Male   \n",
       "3   Married-civ-spouse      Prof-specialty            Wife   Black   Female   \n",
       "4   Married-civ-spouse     Exec-managerial            Wife   White   Female   \n",
       "\n",
       "    capital_gain   capital_loss   hours_per_week  native_country  income  \n",
       "0              0              0               13   United-States   <=50K  \n",
       "1              0              0               40   United-States   <=50K  \n",
       "2              0              0               40   United-States   <=50K  \n",
       "3              0              0               40            Cuba   <=50K  \n",
       "4              0              0               40   United-States   <=50K  "
      ]
     },
     "execution_count": 3,
     "metadata": {},
     "output_type": "execute_result"
    }
   ],
   "source": [
    "df.columns=['Age','Workclass','Fnlwgt','Education','education_num','marital_status',' occupation',' relationship',' race',' sex',' capital_gain',' capital_loss',' hours_per_week','native_country','income']\n",
    "#df.rename({'State-gov':'WorkClass','77516':'Fnlwgt','Bachelors':'Education','13':'education_num'},axis=1,inplace=True)\n",
    "df.head()"
   ]
  },
  {
   "cell_type": "code",
   "execution_count": 4,
   "id": "ea6aa491-8b57-440d-9b66-a970178a7f23",
   "metadata": {},
   "outputs": [
    {
     "data": {
      "text/plain": [
       "Age                0\n",
       "Workclass          0\n",
       "Fnlwgt             0\n",
       "Education          0\n",
       "education_num      0\n",
       "marital_status     0\n",
       " occupation        0\n",
       " relationship      0\n",
       " race              0\n",
       " sex               0\n",
       " capital_gain      0\n",
       " capital_loss      0\n",
       " hours_per_week    0\n",
       "native_country     0\n",
       "income             0\n",
       "dtype: int64"
      ]
     },
     "execution_count": 4,
     "metadata": {},
     "output_type": "execute_result"
    }
   ],
   "source": [
    "df.isnull().sum()"
   ]
  },
  {
   "cell_type": "code",
   "execution_count": 5,
   "id": "e20137c6-322b-4c5c-8676-12c21ed53797",
   "metadata": {},
   "outputs": [
    {
     "data": {
      "text/plain": [
       "Age                 int64\n",
       "Workclass          object\n",
       "Fnlwgt              int64\n",
       "Education          object\n",
       "education_num       int64\n",
       "marital_status     object\n",
       " occupation        object\n",
       " relationship      object\n",
       " race              object\n",
       " sex               object\n",
       " capital_gain       int64\n",
       " capital_loss       int64\n",
       " hours_per_week     int64\n",
       "native_country     object\n",
       "income             object\n",
       "dtype: object"
      ]
     },
     "execution_count": 5,
     "metadata": {},
     "output_type": "execute_result"
    }
   ],
   "source": [
    "df.dtypes"
   ]
  },
  {
   "cell_type": "code",
   "execution_count": 6,
   "id": "46ef7311-a1f4-4c36-a6b0-fdb5bf2893fb",
   "metadata": {},
   "outputs": [
    {
     "name": "stdout",
     "output_type": "stream",
     "text": [
      "['Workclass', 'Education', 'marital_status', ' occupation', ' relationship', ' race', ' sex', 'native_country', 'income']\n"
     ]
    }
   ],
   "source": [
    "from sklearn.preprocessing import LabelEncoder\n",
    "cat_cols=[i for i in df.columns if df[i].dtypes=='object']\n",
    "print(cat_cols)"
   ]
  },
  {
   "cell_type": "code",
   "execution_count": 7,
   "id": "5e6ae5be-da4e-4ea1-a958-66eeee4e4ec3",
   "metadata": {},
   "outputs": [],
   "source": [
    "lb=LabelEncoder()\n",
    "for i in cat_cols:\n",
    "    df[i]=lb.fit_transform(df[i])"
   ]
  },
  {
   "cell_type": "code",
   "execution_count": 8,
   "id": "14075564-f3a0-4f35-9203-2f5fccedfd50",
   "metadata": {},
   "outputs": [
    {
     "data": {
      "text/plain": [
       "Age                int64\n",
       "Workclass          int32\n",
       "Fnlwgt             int64\n",
       "Education          int32\n",
       "education_num      int64\n",
       "marital_status     int32\n",
       " occupation        int32\n",
       " relationship      int32\n",
       " race              int32\n",
       " sex               int32\n",
       " capital_gain      int64\n",
       " capital_loss      int64\n",
       " hours_per_week    int64\n",
       "native_country     int32\n",
       "income             int32\n",
       "dtype: object"
      ]
     },
     "execution_count": 8,
     "metadata": {},
     "output_type": "execute_result"
    }
   ],
   "source": [
    "df.dtypes"
   ]
  },
  {
   "cell_type": "code",
   "execution_count": 9,
   "id": "1e24be4b-d15b-40f9-a421-b149f9e37f31",
   "metadata": {},
   "outputs": [
    {
     "data": {
      "text/plain": [
       "24"
      ]
     },
     "execution_count": 9,
     "metadata": {},
     "output_type": "execute_result"
    }
   ],
   "source": [
    "df.duplicated().sum()"
   ]
  },
  {
   "cell_type": "code",
   "execution_count": 10,
   "id": "a6ebb542-3ad6-4bd5-84b3-565e5e464089",
   "metadata": {},
   "outputs": [
    {
     "data": {
      "text/plain": [
       "0"
      ]
     },
     "execution_count": 10,
     "metadata": {},
     "output_type": "execute_result"
    }
   ],
   "source": [
    "df.drop_duplicates(inplace=True)\n",
    "df.duplicated().sum()"
   ]
  },
  {
   "cell_type": "code",
   "execution_count": 11,
   "id": "7dbe9dd4-104a-4ab5-9e30-3cd7b91b9af7",
   "metadata": {},
   "outputs": [
    {
     "name": "stdout",
     "output_type": "stream",
     "text": [
      "0    24697\n",
      "1     7839\n",
      "Name: income, dtype: int64\n"
     ]
    }
   ],
   "source": [
    "d1=df[\"income\"].value_counts()\n",
    "print(d1)"
   ]
  },
  {
   "cell_type": "code",
   "execution_count": 12,
   "id": "17dd8c35-3331-42b3-a566-b5a16cee8ebb",
   "metadata": {},
   "outputs": [
    {
     "data": {
      "image/png": "[encoded data removed]",
      "text/plain": [
       "<Figure size 720x576 with 1 Axes>"
      ]
     },
     "metadata": {},
     "output_type": "display_data"
    }
   ],
   "source": [
    "plt.figure(figsize=(10,8))\n",
    "plt.pie(x=d1, labels=d1.index,autopct=\"%.2f%%\")\n",
    "plt.show()"
   ]
  },
  {
   "cell_type": "code",
   "execution_count": 13,
   "id": "7cea0a02-d2dc-4318-8f1d-fc45cac9fc27",
   "metadata": {},
   "outputs": [
    {
     "name": "stdout",
     "output_type": "stream",
     "text": [
      "   Age  Workclass  Fnlwgt  Education  education_num  marital_status  \\\n",
      "0   50          6   83311          9             13               2   \n",
      "1   38          4  215646         11              9               0   \n",
      "2   53          4  234721          1              7               2   \n",
      "3   28          4  338409          9             13               2   \n",
      "4   37          4  284582         12             14               2   \n",
      "\n",
      "    occupation   relationship   race   sex   capital_gain   capital_loss  \\\n",
      "0            4              0      4     1              0              0   \n",
      "1            6              1      4     1              0              0   \n",
      "2            6              0      2     1              0              0   \n",
      "3           10              5      2     0              0              0   \n",
      "4            4              5      4     0              0              0   \n",
      "\n",
      "    hours_per_week  native_country  \n",
      "0               13              39  \n",
      "1               40              39  \n",
      "2               40              39  \n",
      "3               40               5  \n",
      "4               40              39  \n"
     ]
    },
    {
     "data": {
      "text/plain": [
       "0    0\n",
       "1    0\n",
       "2    0\n",
       "3    0\n",
       "4    0\n",
       "Name: income, dtype: int32"
      ]
     },
     "execution_count": 13,
     "metadata": {},
     "output_type": "execute_result"
    }
   ],
   "source": [
    "x=df.iloc[:,:-1]\n",
    "y=df['income']\n",
    "print(x.head())\n",
    "y.head()"
   ]
  },
  {
   "cell_type": "code",
   "execution_count": 14,
   "id": "17d9b8dd-a7fd-4a87-9960-059cb7f5c9e0",
   "metadata": {},
   "outputs": [
    {
     "name": "stdout",
     "output_type": "stream",
     "text": [
      "<class 'pandas.core.frame.DataFrame'>\n",
      "<class 'pandas.core.series.Series'>\n",
      "(32536, 14)\n",
      "(32536,)\n"
     ]
    }
   ],
   "source": [
    "print(type(x))\n",
    "print(type(y))\n",
    "print(x.shape)\n",
    "print(y.shape)"
   ]
  },
  {
   "cell_type": "code",
   "execution_count": 15,
   "id": "e648f152-94e9-4ea7-bc7f-52ab38ff679d",
   "metadata": {},
   "outputs": [],
   "source": [
    "from sklearn.model_selection import train_test_split\n",
    "from sklearn.metrics import confusion_matrix,classification_report,accuracy_score"
   ]
  },
  {
   "cell_type": "code",
   "execution_count": 16,
   "id": "573816b3-d39f-4f87-b279-5bf01e7082f6",
   "metadata": {},
   "outputs": [
    {
     "name": "stdout",
     "output_type": "stream",
     "text": [
      "(16268, 14)\n",
      "(16268, 14)\n",
      "(16268,)\n",
      "(16268,)\n"
     ]
    }
   ],
   "source": [
    "x_train,x_test,y_train,y_test=train_test_split(x,y,test_size=0.50)\n",
    "print(x_train.shape)\n",
    "print(x_test.shape)\n",
    "print(y_train.shape)\n",
    "print(y_test.shape)"
   ]
  },
  {
   "cell_type": "markdown",
   "id": "91902f38-891c-40d2-994b-04b92c7f0dc1",
   "metadata": {},
   "source": [
    "#  1) DecisionTree 2)Random Forest 3)Logistic Regresion 4)KNN 5)SVC classifier(with linear kernel)"
   ]
  },
  {
   "cell_type": "markdown",
   "id": "d3d97eb0-373f-4062-92f6-c738cf440b4f",
   "metadata": {},
   "source": [
    "1)Decision Tree"
   ]
  },
  {
   "cell_type": "code",
   "execution_count": 17,
   "id": "60ba97b1-e517-486c-bf6e-f114ff4d6f97",
   "metadata": {},
   "outputs": [],
   "source": [
    "def gen_cls_metrics(ytest,ypred):\n",
    "    Accuracy_Score=accuracy_score(ytest,ypred)\n",
    "    cm=confusion_matrix(ytest,ypred)\n",
    "    #print(cm)\n",
    "    print(classification_report(ytest,ypred))\n",
    "    return(Accuracy_Score,cm)\n",
    "def train_test_score(model):\n",
    "    Training_score=model.score(x_train,y_train)\n",
    "    Testing_score=model.score(x_test,y_test)\n",
    "    return(Training_score,Testing_score)    "
   ]
  },
  {
   "cell_type": "code",
   "execution_count": 18,
   "id": "a1e0dea0-3d3a-4ce4-8f7b-ee3249d49bc8",
   "metadata": {},
   "outputs": [],
   "source": [
    "from sklearn.tree import DecisionTreeClassifier"
   ]
  },
  {
   "cell_type": "code",
   "execution_count": 19,
   "id": "ab9b5db2-4444-4ddc-bd1f-66d18efc9f6f",
   "metadata": {},
   "outputs": [
    {
     "data": {
      "text/plain": [
       "DecisionTreeClassifier(criterion='entropy', max_depth=10, min_samples_split=16)"
      ]
     },
     "execution_count": 19,
     "metadata": {},
     "output_type": "execute_result"
    }
   ],
   "source": [
    "m1=DecisionTreeClassifier(criterion='entropy',max_depth=10,min_samples_split=16)\n",
    "m1.fit(x_train,y_train)"
   ]
  },
  {
   "cell_type": "code",
   "execution_count": 20,
   "id": "d5eabbfa-0c6e-486e-b356-55ec7a982a0b",
   "metadata": {},
   "outputs": [
    {
     "name": "stdout",
     "output_type": "stream",
     "text": [
      "Training_score 0.8658716498647652\n",
      "Testing_score 0.8490902385050406\n"
     ]
    }
   ],
   "source": [
    "Training_score,Testing_score=train_test_score(m1)\n",
    "print(\"Training_score\",Training_score)\n",
    "print(\"Testing_score\",Testing_score)"
   ]
  },
  {
   "cell_type": "code",
   "execution_count": 21,
   "id": "1f1ef494-b8b2-45d3-b39e-f04c81519335",
   "metadata": {},
   "outputs": [],
   "source": [
    "ypred_m1=m1.predict(x_test)"
   ]
  },
  {
   "cell_type": "code",
   "execution_count": 22,
   "id": "b8be4631-ecbf-4c2e-a5e2-3699b9f5ffa7",
   "metadata": {},
   "outputs": [
    {
     "name": "stdout",
     "output_type": "stream",
     "text": [
      "              precision    recall  f1-score   support\n",
      "\n",
      "           0       0.88      0.93      0.90     12419\n",
      "           1       0.71      0.60      0.65      3849\n",
      "\n",
      "    accuracy                           0.85     16268\n",
      "   macro avg       0.80      0.76      0.78     16268\n",
      "weighted avg       0.84      0.85      0.84     16268\n",
      "\n",
      "Accuracy Score 0.8490902385050406\n",
      "confusion_matrix [[11490   929]\n",
      " [ 1526  2323]]\n"
     ]
    }
   ],
   "source": [
    "Accuracy_score,cm=gen_cls_metrics(y_test,ypred_m1)\n",
    "print(\"Accuracy Score\",Accuracy_score)\n",
    "print(\"confusion_matrix\",cm)"
   ]
  },
  {
   "cell_type": "code",
   "execution_count": 23,
   "id": "e2af514a-7976-4068-bf91-ba1b3c3c4e35",
   "metadata": {},
   "outputs": [
    {
     "data": {
      "text/html": [
       "<div>\n",
       "<style scoped>\n",
       "    .dataframe tbody tr th:only-of-type {\n",
       "        vertical-align: middle;\n",
       "    }\n",
       "\n",
       "    .dataframe tbody tr th {\n",
       "        vertical-align: top;\n",
       "    }\n",
       "\n",
       "    .dataframe thead th {\n",
       "        text-align: right;\n",
       "    }\n",
       "</style>\n",
       "<table border=\"1\" class=\"dataframe\">\n",
       "  <thead>\n",
       "    <tr style=\"text-align: right;\">\n",
       "      <th></th>\n",
       "      <th>MODEL</th>\n",
       "      <th>MODEL_NAME</th>\n",
       "      <th>ACCURACY_SCORE</th>\n",
       "      <th>TRAINING_SCORE</th>\n",
       "      <th>TESTING_SCORE</th>\n",
       "    </tr>\n",
       "  </thead>\n",
       "  <tbody>\n",
       "    <tr>\n",
       "      <th>0</th>\n",
       "      <td>DesicionTree</td>\n",
       "      <td>M1</td>\n",
       "      <td>0.84909</td>\n",
       "      <td>0.865872</td>\n",
       "      <td>0.84909</td>\n",
       "    </tr>\n",
       "  </tbody>\n",
       "</table>\n",
       "</div>"
      ],
      "text/plain": [
       "          MODEL MODEL_NAME  ACCURACY_SCORE  TRAINING_SCORE  TESTING_SCORE\n",
       "0  DesicionTree         M1         0.84909        0.865872        0.84909"
      ]
     },
     "execution_count": 23,
     "metadata": {},
     "output_type": "execute_result"
    }
   ],
   "source": [
    "m1_pref=[[\"DesicionTree\",\"M1\",Accuracy_score ,Training_score,Testing_score]]\n",
    "res1=pd.DataFrame(m1_pref,columns=[\"MODEL\",\"MODEL_NAME\",\"ACCURACY_SCORE\",\"TRAINING_SCORE\",\"TESTING_SCORE\"],index=[0])\n",
    "res1.head()"
   ]
  },
  {
   "cell_type": "markdown",
   "id": "f2c35aed-df1a-4963-bb44-d3533b1bd423",
   "metadata": {},
   "source": [
    "2)Random Forest "
   ]
  },
  {
   "cell_type": "code",
   "execution_count": 24,
   "id": "0783bce7-4679-4797-81d1-89becc92966f",
   "metadata": {},
   "outputs": [
    {
     "data": {
      "text/plain": [
       "RandomForestClassifier(criterion='entropy', max_depth=9, min_samples_split=14,\n",
       "                       n_estimators=150)"
      ]
     },
     "execution_count": 24,
     "metadata": {},
     "output_type": "execute_result"
    }
   ],
   "source": [
    "from sklearn.ensemble import RandomForestClassifier\n",
    "m2=RandomForestClassifier(n_estimators=150,criterion='entropy',max_depth=9,min_samples_split=14)\n",
    "m2.fit(x_train,y_train)"
   ]
  },
  {
   "cell_type": "code",
   "execution_count": 25,
   "id": "01bfb7e7-7f61-4489-a181-a86b74ac9088",
   "metadata": {},
   "outputs": [
    {
     "name": "stdout",
     "output_type": "stream",
     "text": [
      "Training_score 0.859909023850504\n",
      "Testing_score 0.858372264568478\n"
     ]
    }
   ],
   "source": [
    "Training_score,Testing_score=train_test_score(m2)\n",
    "print(\"Training_score\",Training_score)\n",
    "print(\"Testing_score\",Testing_score)"
   ]
  },
  {
   "cell_type": "code",
   "execution_count": 26,
   "id": "ab6457f9-4b1a-479a-8652-55d14cd5ff9e",
   "metadata": {},
   "outputs": [],
   "source": [
    "ypred_m2=m2.predict(x_test)"
   ]
  },
  {
   "cell_type": "code",
   "execution_count": 27,
   "id": "7f8ce28a-1aea-4006-bc22-2ae2b4906fd1",
   "metadata": {},
   "outputs": [
    {
     "name": "stdout",
     "output_type": "stream",
     "text": [
      "              precision    recall  f1-score   support\n",
      "\n",
      "           0       0.87      0.96      0.91     12419\n",
      "           1       0.80      0.54      0.64      3849\n",
      "\n",
      "    accuracy                           0.86     16268\n",
      "   macro avg       0.83      0.75      0.78     16268\n",
      "weighted avg       0.85      0.86      0.85     16268\n",
      "\n",
      "Accuracy Score 0.858372264568478\n",
      "confusion_matrix [[11883   536]\n",
      " [ 1768  2081]]\n"
     ]
    }
   ],
   "source": [
    "Accuracy_score,cm=gen_cls_metrics(y_test,ypred_m2)\n",
    "print(\"Accuracy Score\",Accuracy_score)\n",
    "print(\"confusion_matrix\",cm)"
   ]
  },
  {
   "cell_type": "code",
   "execution_count": 28,
   "id": "f8436185-3f1b-460f-a338-8c8711615218",
   "metadata": {},
   "outputs": [
    {
     "data": {
      "text/html": [
       "<div>\n",
       "<style scoped>\n",
       "    .dataframe tbody tr th:only-of-type {\n",
       "        vertical-align: middle;\n",
       "    }\n",
       "\n",
       "    .dataframe tbody tr th {\n",
       "        vertical-align: top;\n",
       "    }\n",
       "\n",
       "    .dataframe thead th {\n",
       "        text-align: right;\n",
       "    }\n",
       "</style>\n",
       "<table border=\"1\" class=\"dataframe\">\n",
       "  <thead>\n",
       "    <tr style=\"text-align: right;\">\n",
       "      <th></th>\n",
       "      <th>MODEL</th>\n",
       "      <th>MODEL_NAME</th>\n",
       "      <th>ACCURACY_SCORE</th>\n",
       "      <th>TRAINING_SCORE</th>\n",
       "      <th>TESTING_SCORE</th>\n",
       "    </tr>\n",
       "  </thead>\n",
       "  <tbody>\n",
       "    <tr>\n",
       "      <th>1</th>\n",
       "      <td>RandomForestTree</td>\n",
       "      <td>M2</td>\n",
       "      <td>0.858372</td>\n",
       "      <td>0.859909</td>\n",
       "      <td>0.858372</td>\n",
       "    </tr>\n",
       "  </tbody>\n",
       "</table>\n",
       "</div>"
      ],
      "text/plain": [
       "              MODEL MODEL_NAME  ACCURACY_SCORE  TRAINING_SCORE  TESTING_SCORE\n",
       "1  RandomForestTree         M2        0.858372        0.859909       0.858372"
      ]
     },
     "execution_count": 28,
     "metadata": {},
     "output_type": "execute_result"
    }
   ],
   "source": [
    "m2_pref=[[\"RandomForestTree\",\"M2\",Accuracy_score ,Training_score,Testing_score]]\n",
    "res2=pd.DataFrame(m2_pref,columns=[\"MODEL\",\"MODEL_NAME\",\"ACCURACY_SCORE\",\"TRAINING_SCORE\",\"TESTING_SCORE\"],index=[1])\n",
    "res2.head()"
   ]
  },
  {
   "cell_type": "markdown",
   "id": "0299d761-54f9-4143-bbf6-f01ad98d61bc",
   "metadata": {},
   "source": [
    "3)Logistic Regresion"
   ]
  },
  {
   "cell_type": "code",
   "execution_count": 29,
   "id": "2b56eb61-b3e3-494f-9977-5f95f5bc186b",
   "metadata": {},
   "outputs": [],
   "source": [
    "from sklearn.linear_model import LogisticRegression\n"
   ]
  },
  {
   "cell_type": "code",
   "execution_count": 30,
   "id": "b248d368-31cb-4f9d-a4cc-067781b5cadb",
   "metadata": {},
   "outputs": [
    {
     "data": {
      "text/plain": [
       "LogisticRegression(max_iter=10000)"
      ]
     },
     "execution_count": 30,
     "metadata": {},
     "output_type": "execute_result"
    }
   ],
   "source": [
    "m3=LogisticRegression(max_iter=10000)\n",
    "m3.fit(x_train,y_train)"
   ]
  },
  {
   "cell_type": "code",
   "execution_count": 31,
   "id": "2b580211-03d4-486b-96df-cee0b50611f0",
   "metadata": {},
   "outputs": [
    {
     "name": "stdout",
     "output_type": "stream",
     "text": [
      "Training_score 0.7865748709122203\n",
      "Testing_score 0.7870666338824687\n"
     ]
    }
   ],
   "source": [
    "Training_score,Testing_score=train_test_score(m3)\n",
    "print(\"Training_score\",Training_score)\n",
    "print(\"Testing_score\",Testing_score)\n"
   ]
  },
  {
   "cell_type": "code",
   "execution_count": 32,
   "id": "3e404d07-5220-48a8-994e-18791f0edc5b",
   "metadata": {},
   "outputs": [],
   "source": [
    "ypred_m3=m3.predict(x_test)"
   ]
  },
  {
   "cell_type": "code",
   "execution_count": 33,
   "id": "6bd36090-25ef-45b8-978d-92b0ece9ca1f",
   "metadata": {},
   "outputs": [
    {
     "name": "stdout",
     "output_type": "stream",
     "text": [
      "              precision    recall  f1-score   support\n",
      "\n",
      "           0       0.81      0.94      0.87     12419\n",
      "           1       0.60      0.30      0.40      3849\n",
      "\n",
      "    accuracy                           0.79     16268\n",
      "   macro avg       0.71      0.62      0.64     16268\n",
      "weighted avg       0.76      0.79      0.76     16268\n",
      "\n",
      "Accuracy Score 0.7870666338824687\n",
      "confusion_matrix [[11648   771]\n",
      " [ 2693  1156]]\n"
     ]
    }
   ],
   "source": [
    "Accuracy_score,cm=gen_cls_metrics(y_test,ypred_m3)\n",
    "print(\"Accuracy Score\",Accuracy_score)\n",
    "print(\"confusion_matrix\",cm)"
   ]
  },
  {
   "cell_type": "code",
   "execution_count": 34,
   "id": "1b0cc904-6939-49e2-856b-d997c99578f6",
   "metadata": {},
   "outputs": [
    {
     "name": "stdout",
     "output_type": "stream",
     "text": [
      "                MODEL MODEL_NAME  ACCURACY_SCORE  TRAINING_SCORE  \\\n",
      "0        DesicionTree         M1        0.849090        0.865872   \n",
      "1    RandomForestTree         M2        0.858372        0.859909   \n",
      "2  LogisticRegression         M3        0.787067        0.786575   \n",
      "\n",
      "   TESTING_SCORE  \n",
      "0       0.849090  \n",
      "1       0.858372  \n",
      "2       0.787067  \n"
     ]
    }
   ],
   "source": [
    "m3_pref=[[\"LogisticRegression\",\"M3\",Accuracy_score ,Training_score,Testing_score]]\n",
    "res3=pd.DataFrame(m3_pref,columns=[\"MODEL\",\"MODEL_NAME\",\"ACCURACY_SCORE\",\"TRAINING_SCORE\",\"TESTING_SCORE\"],index=[2])\n",
    "res3.head()\n",
    "print(pd.concat([res1,res2,res3]))"
   ]
  },
  {
   "cell_type": "markdown",
   "id": "e2e8e456-889e-46f3-9dec-02ce048da803",
   "metadata": {},
   "source": [
    "4)KNN"
   ]
  },
  {
   "cell_type": "code",
   "execution_count": 35,
   "id": "49426a03-b9d5-45aa-86a1-35e91017283e",
   "metadata": {},
   "outputs": [],
   "source": [
    "from sklearn.neighbors import KNeighborsClassifier"
   ]
  },
  {
   "cell_type": "code",
   "execution_count": 36,
   "id": "510391be-bd43-46e3-a35b-9328758bbc69",
   "metadata": {},
   "outputs": [
    {
     "data": {
      "text/plain": [
       "KNeighborsClassifier(n_neighbors=20)"
      ]
     },
     "execution_count": 36,
     "metadata": {},
     "output_type": "execute_result"
    }
   ],
   "source": [
    "m4=KNeighborsClassifier(n_neighbors=20)\n",
    "m4.fit(x_train,y_train)"
   ]
  },
  {
   "cell_type": "code",
   "execution_count": 37,
   "id": "87880a68-5c0d-4f83-bf6a-584e808fa98b",
   "metadata": {},
   "outputs": [
    {
     "name": "stdout",
     "output_type": "stream",
     "text": [
      "Training_score 0.7971477747725596\n",
      "Testing_score 0.8002827637078928\n"
     ]
    }
   ],
   "source": [
    "Training_score,Testing_score=train_test_score(m4)\n",
    "print(\"Training_score\",Training_score)\n",
    "print(\"Testing_score\",Testing_score)"
   ]
  },
  {
   "cell_type": "code",
   "execution_count": 38,
   "id": "5ba36ec0-1baa-47c8-9cbf-29feb8128897",
   "metadata": {},
   "outputs": [],
   "source": [
    "ypred_m4=m4.predict(x_test)"
   ]
  },
  {
   "cell_type": "code",
   "execution_count": 39,
   "id": "646fa518-2dde-49ce-b9da-267ea6839ed5",
   "metadata": {},
   "outputs": [
    {
     "name": "stdout",
     "output_type": "stream",
     "text": [
      "              precision    recall  f1-score   support\n",
      "\n",
      "           0       0.80      0.99      0.88     12419\n",
      "           1       0.86      0.19      0.31      3849\n",
      "\n",
      "    accuracy                           0.80     16268\n",
      "   macro avg       0.83      0.59      0.59     16268\n",
      "weighted avg       0.81      0.80      0.75     16268\n",
      "\n",
      "Accuracy Score 0.8002827637078928\n",
      "confusion_matrix [[12302   117]\n",
      " [ 3132   717]]\n"
     ]
    }
   ],
   "source": [
    "Accuracy_score,cm=gen_cls_metrics(y_test,ypred_m4)\n",
    "print(\"Accuracy Score\",Accuracy_score)\n",
    "print(\"confusion_matrix\",cm)"
   ]
  },
  {
   "cell_type": "code",
   "execution_count": 40,
   "id": "98c36bf0-abae-4047-b51e-9141a55ac9df",
   "metadata": {},
   "outputs": [
    {
     "data": {
      "text/html": [
       "<div>\n",
       "<style scoped>\n",
       "    .dataframe tbody tr th:only-of-type {\n",
       "        vertical-align: middle;\n",
       "    }\n",
       "\n",
       "    .dataframe tbody tr th {\n",
       "        vertical-align: top;\n",
       "    }\n",
       "\n",
       "    .dataframe thead th {\n",
       "        text-align: right;\n",
       "    }\n",
       "</style>\n",
       "<table border=\"1\" class=\"dataframe\">\n",
       "  <thead>\n",
       "    <tr style=\"text-align: right;\">\n",
       "      <th></th>\n",
       "      <th>MODEL</th>\n",
       "      <th>MODEL_NAME</th>\n",
       "      <th>ACCURACY_SCORE</th>\n",
       "      <th>TRAINING_SCORE</th>\n",
       "      <th>TESTING_SCORE</th>\n",
       "    </tr>\n",
       "  </thead>\n",
       "  <tbody>\n",
       "    <tr>\n",
       "      <th>0</th>\n",
       "      <td>DesicionTree</td>\n",
       "      <td>M1</td>\n",
       "      <td>0.849090</td>\n",
       "      <td>0.865872</td>\n",
       "      <td>0.849090</td>\n",
       "    </tr>\n",
       "    <tr>\n",
       "      <th>1</th>\n",
       "      <td>RandomForestTree</td>\n",
       "      <td>M2</td>\n",
       "      <td>0.858372</td>\n",
       "      <td>0.859909</td>\n",
       "      <td>0.858372</td>\n",
       "    </tr>\n",
       "    <tr>\n",
       "      <th>2</th>\n",
       "      <td>LogisticRegression</td>\n",
       "      <td>M3</td>\n",
       "      <td>0.787067</td>\n",
       "      <td>0.786575</td>\n",
       "      <td>0.787067</td>\n",
       "    </tr>\n",
       "    <tr>\n",
       "      <th>3</th>\n",
       "      <td>KNN</td>\n",
       "      <td>M4</td>\n",
       "      <td>0.800283</td>\n",
       "      <td>0.797148</td>\n",
       "      <td>0.800283</td>\n",
       "    </tr>\n",
       "  </tbody>\n",
       "</table>\n",
       "</div>"
      ],
      "text/plain": [
       "                MODEL MODEL_NAME  ACCURACY_SCORE  TRAINING_SCORE  \\\n",
       "0        DesicionTree         M1        0.849090        0.865872   \n",
       "1    RandomForestTree         M2        0.858372        0.859909   \n",
       "2  LogisticRegression         M3        0.787067        0.786575   \n",
       "3                 KNN         M4        0.800283        0.797148   \n",
       "\n",
       "   TESTING_SCORE  \n",
       "0       0.849090  \n",
       "1       0.858372  \n",
       "2       0.787067  \n",
       "3       0.800283  "
      ]
     },
     "execution_count": 40,
     "metadata": {},
     "output_type": "execute_result"
    }
   ],
   "source": [
    "m4_pref=[[\"KNN\",\"M4\",Accuracy_score ,Training_score,Testing_score]]\n",
    "res4=pd.DataFrame(m4_pref,columns=[\"MODEL\",\"MODEL_NAME\",\"ACCURACY_SCORE\",\"TRAINING_SCORE\",\"TESTING_SCORE\"],index=[3])\n",
    "res4.head()\n",
    "result2=pd.concat([res1,res2,res3,res4])\n",
    "result2.head()"
   ]
  },
  {
   "cell_type": "markdown",
   "id": "f8de9b46-20c1-48fb-8747-04cc46bfe0a6",
   "metadata": {},
   "source": [
    "5)SVC classifier(with linear kernel)"
   ]
  },
  {
   "cell_type": "code",
   "execution_count": 41,
   "id": "3ce163fd-3e44-42b9-b87e-5daf1eb7fd2d",
   "metadata": {},
   "outputs": [],
   "source": [
    "from sklearn.svm import SVC"
   ]
  },
  {
   "cell_type": "code",
   "execution_count": 42,
   "id": "e6e07e54-b892-4cca-b36f-224445b72864",
   "metadata": {},
   "outputs": [
    {
     "name": "stdout",
     "output_type": "stream",
     "text": [
      "(16268, 14)\n",
      "(16268, 14)\n",
      "(16268,)\n",
      "(16268,)\n"
     ]
    }
   ],
   "source": [
    "x_train_svc,x_test_svc,y_train_svc,y_test_svc=train_test_split(x,y,test_size=0.50)\n",
    "print(x_train_svc.shape)\n",
    "print(x_test_svc.shape)\n",
    "print(y_train_svc.shape)\n",
    "print(y_test_svc.shape)"
   ]
  },
  {
   "cell_type": "code",
   "execution_count": 43,
   "id": "1d7df74f-da29-4033-87c6-5bd65e295d66",
   "metadata": {},
   "outputs": [
    {
     "data": {
      "text/plain": [
       "SVC(C=1, kernel='linear')"
      ]
     },
     "execution_count": 43,
     "metadata": {},
     "output_type": "execute_result"
    }
   ],
   "source": [
    "m5=SVC(kernel=\"linear\",C=1)\n",
    "m5.fit(x_train_svc,y_train_svc)"
   ]
  },
  {
   "cell_type": "code",
   "execution_count": 51,
   "id": "78843076-9949-4faa-afd9-ff972c757a8c",
   "metadata": {},
   "outputs": [
    {
     "name": "stdout",
     "output_type": "stream",
     "text": [
      "Training_score 0.7917383820998278\n",
      "Testing_score 0.7971477747725596\n"
     ]
    }
   ],
   "source": [
    "Training_score,Testing_score=train_test_score(m5)\n",
    "print(\"Training_score\",Training_score)\n",
    "print(\"Testing_score\",Testing_score)"
   ]
  },
  {
   "cell_type": "code",
   "execution_count": 52,
   "id": "87ec99af-6111-4791-b911-524d1e58da72",
   "metadata": {},
   "outputs": [],
   "source": [
    "ypred_m5=m5.predict(x_test)"
   ]
  },
  {
   "cell_type": "code",
   "execution_count": 53,
   "id": "0c47ff70-8bab-4eb3-a259-54d6d2d0bc30",
   "metadata": {},
   "outputs": [
    {
     "name": "stdout",
     "output_type": "stream",
     "text": [
      "              precision    recall  f1-score   support\n",
      "\n",
      "           0       0.81      0.95      0.88     12419\n",
      "           1       0.66      0.29      0.41      3849\n",
      "\n",
      "    accuracy                           0.80     16268\n",
      "   macro avg       0.74      0.62      0.64     16268\n",
      "weighted avg       0.78      0.80      0.77     16268\n",
      "\n",
      "Accuracy Score 0.7971477747725596\n",
      "confusion_matrix [[11839   580]\n",
      " [ 2720  1129]]\n"
     ]
    }
   ],
   "source": [
    "Accuracy_score,cm=gen_cls_metrics(y_test,ypred_m5)\n",
    "print(\"Accuracy Score\",Accuracy_score)\n",
    "print(\"confusion_matrix\",cm)"
   ]
  },
  {
   "cell_type": "code",
   "execution_count": 54,
   "id": "bcb3b1e3-29a1-4fa7-bab1-5cf392251d42",
   "metadata": {},
   "outputs": [
    {
     "data": {
      "text/html": [
       "<div>\n",
       "<style scoped>\n",
       "    .dataframe tbody tr th:only-of-type {\n",
       "        vertical-align: middle;\n",
       "    }\n",
       "\n",
       "    .dataframe tbody tr th {\n",
       "        vertical-align: top;\n",
       "    }\n",
       "\n",
       "    .dataframe thead th {\n",
       "        text-align: right;\n",
       "    }\n",
       "</style>\n",
       "<table border=\"1\" class=\"dataframe\">\n",
       "  <thead>\n",
       "    <tr style=\"text-align: right;\">\n",
       "      <th></th>\n",
       "      <th>MODEL</th>\n",
       "      <th>MODEL_NAME</th>\n",
       "      <th>ACCURACY_SCORE</th>\n",
       "      <th>TRAINING_SCORE</th>\n",
       "      <th>TESTING_SCORE</th>\n",
       "    </tr>\n",
       "  </thead>\n",
       "  <tbody>\n",
       "    <tr>\n",
       "      <th>0</th>\n",
       "      <td>DesicionTree</td>\n",
       "      <td>M1</td>\n",
       "      <td>0.849090</td>\n",
       "      <td>0.865872</td>\n",
       "      <td>0.849090</td>\n",
       "    </tr>\n",
       "    <tr>\n",
       "      <th>1</th>\n",
       "      <td>RandomForestTree</td>\n",
       "      <td>M2</td>\n",
       "      <td>0.858372</td>\n",
       "      <td>0.859909</td>\n",
       "      <td>0.858372</td>\n",
       "    </tr>\n",
       "    <tr>\n",
       "      <th>2</th>\n",
       "      <td>LogisticRegression</td>\n",
       "      <td>M3</td>\n",
       "      <td>0.787067</td>\n",
       "      <td>0.786575</td>\n",
       "      <td>0.787067</td>\n",
       "    </tr>\n",
       "    <tr>\n",
       "      <th>3</th>\n",
       "      <td>KNN</td>\n",
       "      <td>M4</td>\n",
       "      <td>0.800283</td>\n",
       "      <td>0.797148</td>\n",
       "      <td>0.800283</td>\n",
       "    </tr>\n",
       "    <tr>\n",
       "      <th>4</th>\n",
       "      <td>SVM</td>\n",
       "      <td>M5</td>\n",
       "      <td>0.797148</td>\n",
       "      <td>0.791738</td>\n",
       "      <td>0.797148</td>\n",
       "    </tr>\n",
       "  </tbody>\n",
       "</table>\n",
       "</div>"
      ],
      "text/plain": [
       "                MODEL MODEL_NAME  ACCURACY_SCORE  TRAINING_SCORE  \\\n",
       "0        DesicionTree         M1        0.849090        0.865872   \n",
       "1    RandomForestTree         M2        0.858372        0.859909   \n",
       "2  LogisticRegression         M3        0.787067        0.786575   \n",
       "3                 KNN         M4        0.800283        0.797148   \n",
       "4                 SVM         M5        0.797148        0.791738   \n",
       "\n",
       "   TESTING_SCORE  \n",
       "0       0.849090  \n",
       "1       0.858372  \n",
       "2       0.787067  \n",
       "3       0.800283  \n",
       "4       0.797148  "
      ]
     },
     "execution_count": 54,
     "metadata": {},
     "output_type": "execute_result"
    }
   ],
   "source": [
    "m5_pref=[[\"SVM\",\"M5\",Accuracy_score ,Training_score,Testing_score]]\n",
    "res5=pd.DataFrame(m5_pref,columns=[\"MODEL\",\"MODEL_NAME\",\"ACCURACY_SCORE\",\"TRAINING_SCORE\",\"TESTING_SCORE\"],index=[4])\n",
    "res5.head()\n",
    "res5.head()\n",
    "result1=pd.concat([res1,res2,res3,res4,res5])\n",
    "result1.head()"
   ]
  },
  {
   "cell_type": "code",
   "execution_count": 55,
   "id": "7d7df1e4-b70c-40f7-8c34-0540770b5c25",
   "metadata": {},
   "outputs": [
    {
     "name": "stdout",
     "output_type": "stream",
     "text": [
      "{0: 0.8490902385050406, 1: 0.858372264568478, 2: 0.7870666338824687, 3: 0.8002827637078928, 4: 0.7971477747725596}\n"
     ]
    }
   ],
   "source": [
    "dict1=dict(result1[\"ACCURACY_SCORE\"])\n",
    "print(dict1)"
   ]
  },
  {
   "cell_type": "code",
   "execution_count": 56,
   "id": "076d71bd-e474-4697-8cc0-2ef37134635d",
   "metadata": {},
   "outputs": [
    {
     "name": "stdout",
     "output_type": "stream",
     "text": [
      "1\n",
      "Best_Model is: M2\n",
      "Bsest_model_name is: RandomForestTree\n"
     ]
    }
   ],
   "source": [
    "lam=lambda x:dict1[x]\n",
    "model_row=max(dict1,key=lam)\n",
    "best_model=result1.values[model_row][1]\n",
    "best_model_name=result1.values[model_row][0]\n",
    "print(model_row)\n",
    "print(\"Best_Model is:\",best_model)\n",
    "print(\"Bsest_model_name is:\",best_model_name)"
   ]
  },
  {
   "cell_type": "code",
   "execution_count": null,
   "id": "4af21503-7274-474a-8703-ea74da8600c2",
   "metadata": {},
   "outputs": [],
   "source": []
  }
 ],
 "metadata": {
  "kernelspec": {
   "display_name": "Python 3 (ipykernel)",
   "language": "python",
   "name": "python3"
  },
  "language_info": {
   "codemirror_mode": {
    "name": "ipython",
    "version": 3
   },
   "file_extension": ".py",
   "mimetype": "text/x-python",
   "name": "python",
   "nbconvert_exporter": "python",
   "pygments_lexer": "ipython3",
   "version": "3.12.4"
  }
 },
 "nbformat": 4,
 "nbformat_minor": 5
}
